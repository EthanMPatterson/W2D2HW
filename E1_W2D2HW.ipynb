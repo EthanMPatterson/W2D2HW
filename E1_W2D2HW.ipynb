{
 "cells": [
  {
   "cell_type": "code",
   "execution_count": null,
   "metadata": {},
   "outputs": [],
   "source": [
    "inputstring = input(\"Enter a word or phrase to display total vowel count\")\n",
    "x = 0\n",
    "vcount = 0 \n",
    "for x in range(len(inputstring)):\n",
    "    if (\n",
    "        (inputstring [x] == \"a\")\n",
    "        or (inputstring [x] == 'e')\n",
    "        or (inputstring [x] == 'i')\n",
    "        or (inputstring [x] == 'o')\n",
    "        or (inputstring [x] == 'u')\n",
    "        or (inputstring [x] == 'A')\n",
    "        or (inputstring [x] == 'E')\n",
    "        or (inputstring [x] == 'I')\n",
    "        or (inputstring [x] == 'O')\n",
    "        or (inputstring [x] == 'U')\n",
    "    ): \n",
    "        vcount += 1\n",
    "print(\"Total Vowels: \", vcount)"
   ]
  },
  {
   "cell_type": "markdown",
   "metadata": {},
   "source": [
    "<p> Here is a better way to do it<p>"
   ]
  },
  {
   "cell_type": "code",
   "execution_count": 12,
   "metadata": {},
   "outputs": [
    {
     "name": "stdout",
     "output_type": "stream",
     "text": [
      "There are 11 vowels in your word/phrase\n"
     ]
    }
   ],
   "source": [
    "inputstring = input(\"Enter a word or phrase to display total vowel count\")\n",
    "\n",
    "vcount = 0 \n",
    "vowels = ['a', 'e', 'i', 'o', 'u', 'A', 'E', 'I', 'O', 'U']\n",
    "\n",
    "for x in range(len(inputstring)):\n",
    "    if inputstring[x] in vowels:\n",
    "        vcount += 1\n",
    "print(f\"There are {vcount} vowels in your word/phrase\")"
   ]
  },
  {
   "cell_type": "code",
   "execution_count": null,
   "metadata": {},
   "outputs": [],
   "source": []
  }
 ],
 "metadata": {
  "kernelspec": {
   "display_name": "Python 3",
   "language": "python",
   "name": "python3"
  },
  "language_info": {
   "codemirror_mode": {
    "name": "ipython",
    "version": 3
   },
   "file_extension": ".py",
   "mimetype": "text/x-python",
   "name": "python",
   "nbconvert_exporter": "python",
   "pygments_lexer": "ipython3",
   "version": "3.12.2"
  }
 },
 "nbformat": 4,
 "nbformat_minor": 2
}
